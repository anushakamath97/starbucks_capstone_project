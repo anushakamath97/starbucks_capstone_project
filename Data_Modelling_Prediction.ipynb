{
 "cells": [
  {
   "cell_type": "markdown",
   "id": "ce606069",
   "metadata": {},
   "source": [
    "**Definition of Offer Response Classes:**\n",
    "\n",
    "- 0 - user did not make any purchase due to sent offers\n",
    "- 1 - user completed offer due to sent offer\n",
    "- 2 - user completed offer by chance (without viewing)\n",
    "- 3 - user made purchase due to information"
   ]
  },
  {
   "cell_type": "code",
   "execution_count": 32,
   "id": "3ab68f00",
   "metadata": {},
   "outputs": [],
   "source": [
    "from sklearn.pipeline import Pipeline\n",
    "from sklearn.decomposition import PCA\n",
    "from sklearn.linear_model import LogisticRegression\n",
    "from sklearn.model_selection import train_test_split, GridSearchCV\n",
    "from sklearn.preprocessing import StandardScaler\n",
    "from sklearn.metrics import classification_report, confusion_matrix, ConfusionMatrixDisplay\n",
    "from imblearn.over_sampling import SMOTE\n",
    "from imblearn.under_sampling import RandomUnderSampler\n",
    "from sklearn.neighbors import KNeighborsClassifier\n",
    "from sklearn.tree import DecisionTreeClassifier\n",
    "from sklearn.ensemble import GradientBoostingClassifier\n",
    "from sklearn.naive_bayes import GaussianNB\n",
    "import pandas as pd\n",
    "import matplotlib.pyplot as plt\n",
    "import pickle"
   ]
  },
  {
   "cell_type": "code",
   "execution_count": 3,
   "id": "39459bfd",
   "metadata": {},
   "outputs": [],
   "source": [
    "X_df = pd.read_csv(\"data/processed/data.csv\")\n",
    "y_df = pd.read_csv(\"data/processed/target.csv\")\n",
    "del X_df[\"Unnamed: 0\"]\n",
    "del y_df[\"Unnamed: 0\"]"
   ]
  },
  {
   "cell_type": "code",
   "execution_count": 4,
   "id": "6f3571b7",
   "metadata": {},
   "outputs": [
    {
     "data": {
      "text/html": [
       "<div>\n",
       "<style scoped>\n",
       "    .dataframe tbody tr th:only-of-type {\n",
       "        vertical-align: middle;\n",
       "    }\n",
       "\n",
       "    .dataframe tbody tr th {\n",
       "        vertical-align: top;\n",
       "    }\n",
       "\n",
       "    .dataframe thead th {\n",
       "        text-align: right;\n",
       "    }\n",
       "</style>\n",
       "<table border=\"1\" class=\"dataframe\">\n",
       "  <thead>\n",
       "    <tr style=\"text-align: right;\">\n",
       "      <th></th>\n",
       "      <th>user_id</th>\n",
       "      <th>offer_id</th>\n",
       "      <th>completion_time</th>\n",
       "      <th>reward</th>\n",
       "      <th>duration</th>\n",
       "      <th>difficulty</th>\n",
       "      <th>gender_F</th>\n",
       "      <th>gender_M</th>\n",
       "      <th>gender_O</th>\n",
       "      <th>age</th>\n",
       "      <th>income</th>\n",
       "      <th>became_member_year</th>\n",
       "      <th>total_amt</th>\n",
       "    </tr>\n",
       "  </thead>\n",
       "  <tbody>\n",
       "    <tr>\n",
       "      <th>0</th>\n",
       "      <td>13</td>\n",
       "      <td>3</td>\n",
       "      <td>0</td>\n",
       "      <td>0</td>\n",
       "      <td>96</td>\n",
       "      <td>0</td>\n",
       "      <td>0</td>\n",
       "      <td>1</td>\n",
       "      <td>0</td>\n",
       "      <td>58</td>\n",
       "      <td>51000.0</td>\n",
       "      <td>2017</td>\n",
       "      <td>0.87</td>\n",
       "    </tr>\n",
       "    <tr>\n",
       "      <th>1</th>\n",
       "      <td>23</td>\n",
       "      <td>3</td>\n",
       "      <td>0</td>\n",
       "      <td>0</td>\n",
       "      <td>96</td>\n",
       "      <td>0</td>\n",
       "      <td>1</td>\n",
       "      <td>0</td>\n",
       "      <td>0</td>\n",
       "      <td>78</td>\n",
       "      <td>71000.0</td>\n",
       "      <td>2017</td>\n",
       "      <td>18.98</td>\n",
       "    </tr>\n",
       "    <tr>\n",
       "      <th>2</th>\n",
       "      <td>49</td>\n",
       "      <td>8</td>\n",
       "      <td>0</td>\n",
       "      <td>0</td>\n",
       "      <td>72</td>\n",
       "      <td>0</td>\n",
       "      <td>0</td>\n",
       "      <td>1</td>\n",
       "      <td>0</td>\n",
       "      <td>39</td>\n",
       "      <td>51000.0</td>\n",
       "      <td>2014</td>\n",
       "      <td>1.63</td>\n",
       "    </tr>\n",
       "    <tr>\n",
       "      <th>3</th>\n",
       "      <td>67</td>\n",
       "      <td>8</td>\n",
       "      <td>18</td>\n",
       "      <td>0</td>\n",
       "      <td>72</td>\n",
       "      <td>0</td>\n",
       "      <td>0</td>\n",
       "      <td>1</td>\n",
       "      <td>0</td>\n",
       "      <td>75</td>\n",
       "      <td>52000.0</td>\n",
       "      <td>2015</td>\n",
       "      <td>6.86</td>\n",
       "    </tr>\n",
       "    <tr>\n",
       "      <th>4</th>\n",
       "      <td>83</td>\n",
       "      <td>8</td>\n",
       "      <td>0</td>\n",
       "      <td>0</td>\n",
       "      <td>72</td>\n",
       "      <td>0</td>\n",
       "      <td>0</td>\n",
       "      <td>1</td>\n",
       "      <td>0</td>\n",
       "      <td>27</td>\n",
       "      <td>35000.0</td>\n",
       "      <td>2018</td>\n",
       "      <td>3.62</td>\n",
       "    </tr>\n",
       "  </tbody>\n",
       "</table>\n",
       "</div>"
      ],
      "text/plain": [
       "   user_id  offer_id  completion_time  reward  duration  difficulty  gender_F  \\\n",
       "0       13         3                0       0        96           0         0   \n",
       "1       23         3                0       0        96           0         1   \n",
       "2       49         8                0       0        72           0         0   \n",
       "3       67         8               18       0        72           0         0   \n",
       "4       83         8                0       0        72           0         0   \n",
       "\n",
       "   gender_M  gender_O  age   income  became_member_year  total_amt  \n",
       "0         1         0   58  51000.0                2017       0.87  \n",
       "1         0         0   78  71000.0                2017      18.98  \n",
       "2         1         0   39  51000.0                2014       1.63  \n",
       "3         1         0   75  52000.0                2015       6.86  \n",
       "4         1         0   27  35000.0                2018       3.62  "
      ]
     },
     "execution_count": 4,
     "metadata": {},
     "output_type": "execute_result"
    }
   ],
   "source": [
    "X_df.head()"
   ]
  },
  {
   "cell_type": "code",
   "execution_count": 5,
   "id": "20cf0709",
   "metadata": {},
   "outputs": [
    {
     "data": {
      "text/html": [
       "<div>\n",
       "<style scoped>\n",
       "    .dataframe tbody tr th:only-of-type {\n",
       "        vertical-align: middle;\n",
       "    }\n",
       "\n",
       "    .dataframe tbody tr th {\n",
       "        vertical-align: top;\n",
       "    }\n",
       "\n",
       "    .dataframe thead th {\n",
       "        text-align: right;\n",
       "    }\n",
       "</style>\n",
       "<table border=\"1\" class=\"dataframe\">\n",
       "  <thead>\n",
       "    <tr style=\"text-align: right;\">\n",
       "      <th></th>\n",
       "      <th>offer_response</th>\n",
       "    </tr>\n",
       "  </thead>\n",
       "  <tbody>\n",
       "    <tr>\n",
       "      <th>0</th>\n",
       "      <td>0</td>\n",
       "    </tr>\n",
       "    <tr>\n",
       "      <th>1</th>\n",
       "      <td>3</td>\n",
       "    </tr>\n",
       "    <tr>\n",
       "      <th>2</th>\n",
       "      <td>0</td>\n",
       "    </tr>\n",
       "    <tr>\n",
       "      <th>3</th>\n",
       "      <td>3</td>\n",
       "    </tr>\n",
       "    <tr>\n",
       "      <th>4</th>\n",
       "      <td>3</td>\n",
       "    </tr>\n",
       "  </tbody>\n",
       "</table>\n",
       "</div>"
      ],
      "text/plain": [
       "   offer_response\n",
       "0               0\n",
       "1               3\n",
       "2               0\n",
       "3               3\n",
       "4               3"
      ]
     },
     "execution_count": 5,
     "metadata": {},
     "output_type": "execute_result"
    }
   ],
   "source": [
    "y_df.head()"
   ]
  },
  {
   "cell_type": "markdown",
   "id": "7e5381ce",
   "metadata": {},
   "source": [
    "## Data Modelling\n",
    "\n",
    "We will split the data into train and test before building any machine learning model. Test set will comprise of 20% of data. This will contain new data that the model wouldn't have seen and hence will be used for evaluation model performance.\n",
    "\n",
    "Machine Learning pipelines are built with StandardScaler and PCA as initial steps.\n",
    "1. As all of our columns are not in same value range we will use StandardScaler to normalize data.\n",
    "2. Many columns like gender, age, offer duration, offer type have duplicated data we will use PCA to perform dimensionality reduction.\n",
    "\n",
    "We are using StandardScaler and PCA inside the pipeline and not on the whole data to avoid any data leakage from test data to train data.\n",
    "\n",
    "Model performance metrics like precision, recall and overall accuracy will be calculated for all classes in target variable (user response). We will also construct a confusion matrix every time to see how many right and wrong predictions happens across all classes.\n",
    "\n",
    "As observed in Data_Preprocessing notebook our data is unbalanced and we have very few classes for class 3. [GridSearchCV](https://scikit-learn.org/stable/modules/generated/sklearn.model_selection.GridSearchCV.html) provides a parameter **_scoring_** which allows us to choose the metrics used for evaluation in validation with different parameters passed. We use \"balanced_accuracy\" as the metrics here which is average of recall obtained in each class. This is designed for unbalanced datasets, for more info look [here](https://scikit-learn.org/stable/modules/generated/sklearn.metrics.balanced_accuracy_score.html#sklearn.metrics.balanced_accuracy_score).\n",
    "\n",
    "Five supervised machine learning models are trained and evaluated here:\n",
    "1. Logistic Regression\n",
    "2. Decision Tree\n",
    "3. Naive Bayes\n",
    "4. Gradient Boosting\n",
    "5. KNN"
   ]
  },
  {
   "cell_type": "code",
   "execution_count": 6,
   "id": "5f55c129",
   "metadata": {},
   "outputs": [],
   "source": [
    "def split_train_test_data(X, Y, test_size=0.2):\n",
    "    \"\"\"\n",
    "    Split data into train and test sets\n",
    "    \n",
    "    Args:\n",
    "      - X: independent variables data\n",
    "      - Y: dependent/target variable data\n",
    "      - test_size: ratio of test data size to whole\n",
    "      \n",
    "    Return:\n",
    "      - X_train: independent variables data for training\n",
    "      - X_test: independent variables data for testing\n",
    "      - Y_train: target variable data for training\n",
    "      - Y_test: target variable data for testing\n",
    "    \"\"\"\n",
    "    X_train, X_test, Y_train, Y_test = train_test_split(X, Y, test_size=test_size, random_state=42)\n",
    "    return (X_train, X_test, Y_train, Y_test)"
   ]
  },
  {
   "cell_type": "code",
   "execution_count": 7,
   "id": "d723aac2",
   "metadata": {},
   "outputs": [],
   "source": [
    "def build_model(clf, parameters=None, scoring=None):\n",
    "    \"\"\"\n",
    "    Build a pipeline with classifier, add parameters to\n",
    "    GridSearchCV with pipeline.\n",
    "\n",
    "    Args:\n",
    "      - clf: machine learning classifier\n",
    "      - parameters: dictionary containing parameter\n",
    "                    that needs to be optimized with GridSearchCV\n",
    "      - scoring: scoring way used in GridSearchCV\n",
    "    \n",
    "    Return:\n",
    "      - GridSearchCV classifier object\n",
    "    \"\"\"\n",
    "    pipeline = Pipeline([\n",
    "            ('scaler', StandardScaler(copy=False)),\n",
    "            ('pca', PCA()),\n",
    "            ('clf', clf),\n",
    "        ])\n",
    "    # define parameters for grid search\n",
    "    param_grid = {\n",
    "        'pca__n_components': [8, 10, 12],\n",
    "    }\n",
    "    \n",
    "    if parameters is not None:\n",
    "        for key in parameters.keys():\n",
    "            param_grid[key] = parameters[key]\n",
    "    \n",
    "    # grid search object\n",
    "    return GridSearchCV(pipeline, param_grid, n_jobs=-1, scoring=scoring)"
   ]
  },
  {
   "cell_type": "markdown",
   "id": "887aea37",
   "metadata": {},
   "source": [
    "## Logistic Regression"
   ]
  },
  {
   "cell_type": "code",
   "execution_count": 8,
   "id": "3c369790",
   "metadata": {},
   "outputs": [],
   "source": [
    "# split into test train data\n",
    "X_train, X_test, Y_train, Y_test =  split_train_test_data(X_df, y_df, test_size=0.2)"
   ]
  },
  {
   "cell_type": "code",
   "execution_count": 9,
   "id": "a8d95873",
   "metadata": {},
   "outputs": [
    {
     "name": "stdout",
     "output_type": "stream",
     "text": [
      "Best Parameters:\n",
      "{'clf__class_weight': 'balanced', 'clf__penalty': 'none', 'pca__n_components': 12}\n"
     ]
    }
   ],
   "source": [
    "# build model using classifier\n",
    "clf = LogisticRegression(max_iter=15000, tol=0.001)\n",
    "parameters = {\n",
    "    'clf__penalty': ['none', 'l2'],\n",
    "    'clf__class_weight': [None, \"balanced\"],\n",
    "}\n",
    "# uncomment below 2 lines for training\n",
    "# model = build_model(clf, parameters, \"balanced_accuracy\")\n",
    "# model.fit(X_train, Y_train.values.ravel())\n",
    "\n",
    "\n",
    "# load from saved model\n",
    "modelFile = \"models/logistic_regression_1.pkl\"\n",
    "model = pickle.load(open(modelFile, 'rb'))\n",
    "print(\"Best Parameters:\")\n",
    "print(model.best_params_)"
   ]
  },
  {
   "cell_type": "markdown",
   "id": "22977b52",
   "metadata": {},
   "source": [
    "**GridSearchCV** by default fit the model with best parameters so that we can directly run predict on the model."
   ]
  },
  {
   "cell_type": "code",
   "execution_count": 10,
   "id": "7ac4f45e",
   "metadata": {},
   "outputs": [],
   "source": [
    "def evaluate_model(X_test, Y_test, model):\n",
    "    \"\"\"\n",
    "    Make prediction on test data using trained model and evaluate metrics\n",
    "    \n",
    "    Args:\n",
    "      - X_test: test data input\n",
    "      - Y_test: True value of target variables\n",
    "      - model: trained ml model\n",
    "    \"\"\"\n",
    "    # get predictions from model\n",
    "    y_pred = model.predict(X_test)\n",
    "    # calculate performance metrics\n",
    "    print(classification_report(Y_test.values.ravel(), y_pred))\n",
    "    # calculate confusion matric\n",
    "    print(\"Confusion Matrix\")\n",
    "    cm = confusion_matrix(Y_test, y_pred)\n",
    "    disp = ConfusionMatrixDisplay(confusion_matrix=cm, display_labels=[0,1,2,3])\n",
    "    disp.plot()\n",
    "    plt.show()"
   ]
  },
  {
   "cell_type": "code",
   "execution_count": 11,
   "id": "79790e74",
   "metadata": {},
   "outputs": [
    {
     "name": "stdout",
     "output_type": "stream",
     "text": [
      "              precision    recall  f1-score   support\n",
      "\n",
      "           0       0.83      0.54      0.65      8010\n",
      "           1       0.66      0.78      0.71      4003\n",
      "           2       1.00      1.00      1.00      2784\n",
      "           3       0.31      0.98      0.47       957\n",
      "\n",
      "    accuracy                           0.71     15754\n",
      "   macro avg       0.70      0.83      0.71     15754\n",
      "weighted avg       0.78      0.71      0.72     15754\n",
      "\n",
      "Confusion Matrix\n"
     ]
    },
    {
     "data": {
      "image/png": "[encoded data removed]",
      "text/plain": [
       "<Figure size 432x288 with 2 Axes>"
      ]
     },
     "metadata": {
      "needs_background": "light"
     },
     "output_type": "display_data"
    }
   ],
   "source": [
    "evaluate_model(X_test, Y_test, model)"
   ]
  },
  {
   "cell_type": "markdown",
   "id": "c2f35db9",
   "metadata": {},
   "source": [
    "**Definition of our metrics of interest:**\n",
    "\n",
    "_What proportion of positive identifications was actually correct?_\n",
    "\n",
    "> Precision = True_Positive / (True_Positive + False_Positives)\n",
    "\n",
    "_What proportion of actual positives was identified correctly?_\n",
    "\n",
    "> Recall = True_Positive / (True_Positive + False_Negatives)\n",
    "\n",
    "_What proportion predictions are correct?_\n",
    "\n",
    "> Accuracy = (True_Positive + True_Negative) / (True_Positive + False_Positives + True_Negative + False_Negative)"
   ]
  },
  {
   "cell_type": "markdown",
   "id": "2c913ba6",
   "metadata": {},
   "source": [
    "Although accuracy seems a good metric in this case where we have unbalanced data it is not. Models tend to predict more from the majority class in unbalanced scenarios to gain more accuracy.\n",
    "\n",
    "The precision and recall scores are better choices to look at in such situations. We have a majority in correct predictions but there are many wrong predictions in class 0 and hence the very low recall score."
   ]
  },
  {
   "cell_type": "code",
   "execution_count": 12,
   "id": "9d18cd2c",
   "metadata": {},
   "outputs": [],
   "source": [
    "def save_model(model, model_filepath):\n",
    "    \"\"\"\n",
    "    Save the trained model to a file as pickle\n",
    "    Args:\n",
    "        - model: trained model to save\n",
    "        - model_filepath: relative path (with filename) to save the model.\n",
    "    \"\"\"\n",
    "    # save the model to disk\n",
    "    pickle.dump(model, open(model_filepath, 'wb'))"
   ]
  },
  {
   "cell_type": "code",
   "execution_count": 13,
   "id": "62328402",
   "metadata": {},
   "outputs": [],
   "source": [
    "save_model(model, modelFile)"
   ]
  },
  {
   "cell_type": "markdown",
   "id": "6d8fd315",
   "metadata": {},
   "source": [
    "## SMOTE for over sampling\n",
    "\n",
    "**Synthetic Minority Oversampling Technique (SMOTE)** works by selecting examples that are close in the feature space, drawing a line between the examples in the feature space and drawing a new sample at a point along that line.\n",
    "\n",
    "Specifically, a random example from the minority class is first chosen. Then k of the nearest neighbors for that example are found (typically k=5). A randomly selected neighbor is chosen and a synthetic example is created at a randomly selected point between the two examples in feature space.\n",
    "\n",
    "[source](https://machinelearningmastery.com/smote-oversampling-for-imbalanced-classification/)"
   ]
  },
  {
   "cell_type": "code",
   "execution_count": 14,
   "id": "03a38129",
   "metadata": {},
   "outputs": [
    {
     "name": "stdout",
     "output_type": "stream",
     "text": [
      "Old data rows:  78770\n",
      "New data rows: 158984\n"
     ]
    }
   ],
   "source": [
    "# perform over_sampling with SMOTE\n",
    "oversample = SMOTE()\n",
    "\n",
    "print(\"Old data rows: \", X_df.shape[0])\n",
    "X, Y = oversample.fit_resample(X_df, y_df)\n",
    "print(\"New data rows:\", X.shape[0])"
   ]
  },
  {
   "cell_type": "code",
   "execution_count": 15,
   "id": "591d5301",
   "metadata": {},
   "outputs": [
    {
     "data": {
      "image/png": "[encoded data removed]",
      "text/plain": [
       "<Figure size 432x288 with 1 Axes>"
      ]
     },
     "metadata": {
      "needs_background": "light"
     },
     "output_type": "display_data"
    }
   ],
   "source": [
    "import seaborn as sns\n",
    "\n",
    "response_counts = Y.offer_response.value_counts().reset_index()\n",
    "ax = sns.barplot(x='index', y='offer_response', data=response_counts);\n",
    "ax.set(xlabel=\"offer_response_class\", ylabel=\"count\");"
   ]
  },
  {
   "cell_type": "markdown",
   "id": "a1f9d864",
   "metadata": {},
   "source": [
    "**SMOTE** over-sampled the data and made equal data samples for all user response classes. One issue this could cause is the noise introduced into data due to over-sampling."
   ]
  },
  {
   "cell_type": "code",
   "execution_count": 16,
   "id": "f5473e7e",
   "metadata": {},
   "outputs": [],
   "source": [
    "# split into test train data\n",
    "X_train, X_test, Y_train, Y_test = train_test_split(X, Y, test_size=0.2, random_state=42)"
   ]
  },
  {
   "cell_type": "code",
   "execution_count": 17,
   "id": "fbe58138",
   "metadata": {},
   "outputs": [
    {
     "name": "stdout",
     "output_type": "stream",
     "text": [
      "Best Parameters:\n",
      "{'clf__class_weight': None, 'clf__penalty': 'none', 'pca__n_components': 12}\n"
     ]
    }
   ],
   "source": [
    "clf = LogisticRegression(max_iter=15000, tol=0.001)\n",
    "parameters = {\n",
    "    'clf__penalty': ['none', 'l2'],\n",
    "    'clf__class_weight': [None, \"balanced\"],\n",
    "}\n",
    "# uncomment below 2 lines for training\n",
    "# model = build_model(clf, parameters)\n",
    "# model.fit(X_train, Y_train.values.ravel())\n",
    "\n",
    "# load from saved model\n",
    "modelFile = \"models/logistic_regression.pkl\"\n",
    "model = pickle.load(open(modelFile, 'rb'))\n",
    "print(\"Best Parameters:\")\n",
    "print(model.best_params_)"
   ]
  },
  {
   "cell_type": "code",
   "execution_count": 18,
   "id": "6d2d083a",
   "metadata": {},
   "outputs": [
    {
     "name": "stdout",
     "output_type": "stream",
     "text": [
      "              precision    recall  f1-score   support\n",
      "\n",
      "           0       0.72      0.74      0.73      7878\n",
      "           1       0.86      0.76      0.81      7896\n",
      "           2       0.99      1.00      1.00      8055\n",
      "           3       0.87      0.94      0.91      7968\n",
      "\n",
      "    accuracy                           0.86     31797\n",
      "   macro avg       0.86      0.86      0.86     31797\n",
      "weighted avg       0.86      0.86      0.86     31797\n",
      "\n",
      "Confusion Matrix\n"
     ]
    },
    {
     "data": {
      "image/png": "[encoded data removed]",
      "text/plain": [
       "<Figure size 432x288 with 2 Axes>"
      ]
     },
     "metadata": {
      "needs_background": "light"
     },
     "output_type": "display_data"
    }
   ],
   "source": [
    "evaluate_model(X_test, Y_test, model)"
   ]
  },
  {
   "cell_type": "code",
   "execution_count": 19,
   "id": "e3fb9ddb",
   "metadata": {},
   "outputs": [],
   "source": [
    "save_model(model, modelFile)"
   ]
  },
  {
   "cell_type": "markdown",
   "id": "394bb1ca",
   "metadata": {},
   "source": [
    "**Precision**\n",
    "\n",
    "- class 0: decreased to 0.71 from 0.83\n",
    "- class 1: increased to 0.86 from 0.66\n",
    "- class 2: decreased to 0.99 from 1.00\n",
    "- class 3: increased to 0.87 from 0.31\n",
    "\n",
    "Although there is a decrease in precision for class 0 we can see a significant increase for other classes.\n",
    "\n",
    "**Recall**\n",
    "\n",
    "- class 0: increased to 0.74 from 0.54   \n",
    "- class 1: decreased to 0.76 from 0.78\n",
    "- class 2: stayed same to 1.00 from 1.00\n",
    "- class 3: decreased to 0.94 from 0.98\n",
    "\n",
    "In Recall there is significant increase in score for class 0 and minor decrease other classes if at all.\n",
    "\n",
    "**Accuracy**\n",
    "\n",
    "Accuracy increased significantly from 71% to 86% due to upsampling.\n",
    "\n",
    "We can still see lot of wrong predictions in class 0, class 1 and class 4, but using smote to upsample the data has helped improve all accuracy, precision and recall significantly across all classes.\n",
    "\n",
    "The last statement can be supported using the confusion matrices plotted. Before upsampling the severity (purple) for wrongly predicted in class 0 was higher than latter (green).\n",
    "\n",
    "Let us look at other supervised learning algorithms and their performances."
   ]
  },
  {
   "cell_type": "markdown",
   "id": "ab0cc712",
   "metadata": {},
   "source": [
    "## Decision Tree"
   ]
  },
  {
   "cell_type": "code",
   "execution_count": 20,
   "id": "c94fcd01",
   "metadata": {},
   "outputs": [
    {
     "name": "stdout",
     "output_type": "stream",
     "text": [
      "Best Parameters:\n",
      "{'clf__max_depth': None, 'clf__max_features': 'log2', 'pca__n_components': 12}\n"
     ]
    }
   ],
   "source": [
    "clf = DecisionTreeClassifier()\n",
    "parameters = {\n",
    "    'pca__n_components': [12, ],\n",
    "    'clf__max_depth': [None, 10, 15],\n",
    "    'clf__max_features': [\"auto\", \"log2\"],\n",
    "}\n",
    "\n",
    "# uncomment below 2 lines for training\n",
    "# model = build_model(clf, parameters)\n",
    "# model.fit(X_train, Y_train.values.ravel())\n",
    "\n",
    "# load from saved model\n",
    "modelFile = \"models/decision_tree.pkl\"\n",
    "model = pickle.load(open(modelFile, 'rb'))\n",
    "print(\"Best Parameters:\")\n",
    "print(model.best_params_)"
   ]
  },
  {
   "cell_type": "code",
   "execution_count": 21,
   "id": "94353f5a",
   "metadata": {},
   "outputs": [
    {
     "name": "stdout",
     "output_type": "stream",
     "text": [
      "              precision    recall  f1-score   support\n",
      "\n",
      "           0       0.85      0.87      0.86      7878\n",
      "           1       0.87      0.86      0.86      7896\n",
      "           2       0.96      0.96      0.96      8055\n",
      "           3       0.95      0.95      0.95      7968\n",
      "\n",
      "    accuracy                           0.91     31797\n",
      "   macro avg       0.91      0.91      0.91     31797\n",
      "weighted avg       0.91      0.91      0.91     31797\n",
      "\n",
      "Confusion Matrix\n"
     ]
    },
    {
     "data": {
      "image/png": "[encoded data removed]",
      "text/plain": [
       "<Figure size 432x288 with 2 Axes>"
      ]
     },
     "metadata": {
      "needs_background": "light"
     },
     "output_type": "display_data"
    }
   ],
   "source": [
    "evaluate_model(X_test, Y_test, model)"
   ]
  },
  {
   "cell_type": "markdown",
   "id": "25990dfc",
   "metadata": {},
   "source": [
    "**Decision Tree** performs much better than logistic regression. The accuracy is 91% with average precision 0.91 and average recall 0.91"
   ]
  },
  {
   "cell_type": "code",
   "execution_count": 22,
   "id": "a54a22f0",
   "metadata": {},
   "outputs": [],
   "source": [
    "save_model(model, modelFile)"
   ]
  },
  {
   "cell_type": "markdown",
   "id": "f4763787",
   "metadata": {},
   "source": [
    "## Naive Bayes"
   ]
  },
  {
   "cell_type": "code",
   "execution_count": 23,
   "id": "91010fb6",
   "metadata": {},
   "outputs": [
    {
     "name": "stdout",
     "output_type": "stream",
     "text": [
      "Best Parameters:\n",
      "{'clf__var_smoothing': 0.0001, 'pca__n_components': 12}\n"
     ]
    }
   ],
   "source": [
    "clf = GaussianNB()\n",
    "parameters = {\n",
    "    'pca__n_components': [12, ],\n",
    "    'clf__var_smoothing': [0.0001, 0.0000001, 0.000000001],\n",
    "}\n",
    "# uncomment below 2 lines for training\n",
    "# model = build_model(clf, parameters)\n",
    "# model.fit(X_train, Y_train.values.ravel())\n",
    "\n",
    "# load from saved model\n",
    "modelFile = \"models/naive_bayes.pkl\"\n",
    "model = pickle.load(open(modelFile, 'rb'))\n",
    "print(\"Best Parameters:\")\n",
    "print(model.best_params_)"
   ]
  },
  {
   "cell_type": "code",
   "execution_count": 24,
   "id": "c07dfb67",
   "metadata": {},
   "outputs": [
    {
     "name": "stdout",
     "output_type": "stream",
     "text": [
      "              precision    recall  f1-score   support\n",
      "\n",
      "           0       0.60      0.48      0.53      7878\n",
      "           1       0.67      0.66      0.67      7896\n",
      "           2       0.93      0.95      0.94      8055\n",
      "           3       0.81      0.97      0.88      7968\n",
      "\n",
      "    accuracy                           0.76     31797\n",
      "   macro avg       0.75      0.76      0.75     31797\n",
      "weighted avg       0.75      0.76      0.76     31797\n",
      "\n",
      "Confusion Matrix\n"
     ]
    },
    {
     "data": {
      "image/png": "[encoded data removed]",
      "text/plain": [
       "<Figure size 432x288 with 2 Axes>"
      ]
     },
     "metadata": {
      "needs_background": "light"
     },
     "output_type": "display_data"
    }
   ],
   "source": [
    "evaluate_model(X_test, Y_test, model)"
   ]
  },
  {
   "cell_type": "markdown",
   "id": "904b2576",
   "metadata": {},
   "source": [
    "**Naive Bayes** perform lowest among all classifiers with accuracy 76% and average precision and recall 0.75 and 0.76 respectively."
   ]
  },
  {
   "cell_type": "code",
   "execution_count": 25,
   "id": "8f5a0c3c",
   "metadata": {},
   "outputs": [],
   "source": [
    "save_model(model, modelFile)"
   ]
  },
  {
   "cell_type": "markdown",
   "id": "ad0752b4",
   "metadata": {},
   "source": [
    "## Gradient Boosting"
   ]
  },
  {
   "cell_type": "code",
   "execution_count": 26,
   "id": "cb571bf9",
   "metadata": {},
   "outputs": [
    {
     "name": "stdout",
     "output_type": "stream",
     "text": [
      "Best Parameters:\n",
      "{'clf__learning_rate': 0.1, 'clf__min_samples_leaf': 10, 'pca__n_components': 12}\n"
     ]
    }
   ],
   "source": [
    "clf = GradientBoostingClassifier(tol=0.001)\n",
    "parameters = {\n",
    "    'pca__n_components': [12, ],\n",
    "    'clf__learning_rate': [0.1, 0.01],\n",
    "    'clf__min_samples_leaf': [5, 10]\n",
    "}\n",
    "# uncomment below 2 lines for training\n",
    "# model = build_model(clf, parameters)\n",
    "# model.fit(X_train, Y_train.values.ravel())\n",
    "\n",
    "# load from saved model\n",
    "modelFile = \"models/gradient_boosting.pkl\"\n",
    "model = pickle.load(open(modelFile, 'rb'))\n",
    "print(\"Best Parameters:\")\n",
    "print(model.best_params_)"
   ]
  },
  {
   "cell_type": "code",
   "execution_count": 27,
   "id": "52ac4f2c",
   "metadata": {},
   "outputs": [
    {
     "name": "stdout",
     "output_type": "stream",
     "text": [
      "              precision    recall  f1-score   support\n",
      "\n",
      "           0       0.83      0.82      0.83      7878\n",
      "           1       0.89      0.85      0.87      7896\n",
      "           2       0.97      1.00      0.98      8055\n",
      "           3       0.93      0.96      0.94      7968\n",
      "\n",
      "    accuracy                           0.91     31797\n",
      "   macro avg       0.91      0.91      0.91     31797\n",
      "weighted avg       0.91      0.91      0.91     31797\n",
      "\n",
      "Confusion Matrix\n"
     ]
    },
    {
     "data": {
      "image/png": "[encoded data removed]",
      "text/plain": [
       "<Figure size 432x288 with 2 Axes>"
      ]
     },
     "metadata": {
      "needs_background": "light"
     },
     "output_type": "display_data"
    }
   ],
   "source": [
    "evaluate_model(X_test, Y_test, model)"
   ]
  },
  {
   "cell_type": "markdown",
   "id": "d41c1acb",
   "metadata": {},
   "source": [
    "**Gradient Boosting** classifier gives 91% accuracy and 0.91 average precision and recall."
   ]
  },
  {
   "cell_type": "code",
   "execution_count": 28,
   "id": "52291048",
   "metadata": {},
   "outputs": [],
   "source": [
    "save_model(model, modelFile)"
   ]
  },
  {
   "cell_type": "markdown",
   "id": "c4df727c",
   "metadata": {},
   "source": [
    "## KNN"
   ]
  },
  {
   "cell_type": "code",
   "execution_count": 29,
   "id": "911ef044",
   "metadata": {},
   "outputs": [
    {
     "name": "stdout",
     "output_type": "stream",
     "text": [
      "Best Parameters:\n",
      "{'clf__n_neighbors': 4, 'clf__weights': 'distance', 'pca__n_components': 12}\n"
     ]
    }
   ],
   "source": [
    "clf = KNeighborsClassifier()\n",
    "parameters = {\n",
    "    'pca__n_components': [12, ],\n",
    "    'clf__n_neighbors': [4, 5, 6],\n",
    "    'clf__weights': [\"uniform\", \"distance\"],\n",
    "}\n",
    "# uncomment below 2 lines for training\n",
    "# model = build_model(clf, parameters)\n",
    "# model.fit(X_train, Y_train.values.ravel())\n",
    "\n",
    "# load from saved model\n",
    "modelFile = \"models/knn.pkl\"\n",
    "model = pickle.load(open(modelFile, 'rb'))\n",
    "\n",
    "print(\"Best Parameters:\")\n",
    "print(model.best_params_)"
   ]
  },
  {
   "cell_type": "code",
   "execution_count": 30,
   "id": "592299f4",
   "metadata": {},
   "outputs": [
    {
     "name": "stdout",
     "output_type": "stream",
     "text": [
      "              precision    recall  f1-score   support\n",
      "\n",
      "           0       0.79      0.83      0.81      7878\n",
      "           1       0.89      0.80      0.84      7896\n",
      "           2       0.96      0.99      0.98      8055\n",
      "           3       0.93      0.95      0.94      7968\n",
      "\n",
      "    accuracy                           0.89     31797\n",
      "   macro avg       0.89      0.89      0.89     31797\n",
      "weighted avg       0.89      0.89      0.89     31797\n",
      "\n",
      "Confusion Matrix\n"
     ]
    },
    {
     "data": {
      "image/png": "[encoded data removed]",
      "text/plain": [
       "<Figure size 432x288 with 2 Axes>"
      ]
     },
     "metadata": {
      "needs_background": "light"
     },
     "output_type": "display_data"
    }
   ],
   "source": [
    "evaluate_model(X_test, Y_test, model)"
   ]
  },
  {
   "cell_type": "markdown",
   "id": "7716e74d",
   "metadata": {},
   "source": [
    "**K Nearest Neighbour** algorithm also performs well with 89% accuracy and 0.89 average precision and recall."
   ]
  },
  {
   "cell_type": "code",
   "execution_count": 31,
   "id": "f70b16eb",
   "metadata": {},
   "outputs": [],
   "source": [
    "save_model(model, modelFile)"
   ]
  },
  {
   "cell_type": "markdown",
   "id": "af3686a1",
   "metadata": {},
   "source": [
    "Among the supervised classifiers evaluated in this project **Decision Tree, Gradient Boosting** and **KNN** perform well with all performance metrics > 88%."
   ]
  },
  {
   "cell_type": "markdown",
   "id": "c6dc4e12",
   "metadata": {},
   "source": [
    "## SMOTE & RandomUnderSampler\n",
    "\n",
    "The original paper on SMOTE suggested combining SMOTE with random undersampling of the majority class. [source](https://machinelearningmastery.com/smote-oversampling-for-imbalanced-classification/)\n",
    "\n",
    "We will try the Decision Tree Classifier as see if the  performance improves."
   ]
  },
  {
   "cell_type": "code",
   "execution_count": 45,
   "id": "21ddbe38",
   "metadata": {},
   "outputs": [
    {
     "name": "stdout",
     "output_type": "stream",
     "text": [
      "Old data rows:  78770\n",
      "New data rows: 59697\n"
     ]
    }
   ],
   "source": [
    "from imblearn.pipeline import Pipeline\n",
    "\n",
    "# perform over-sampling of minority classes\n",
    "oversample = SMOTE(sampling_strategy='minority', random_state=42)\n",
    "\n",
    "# perform under-sampling of majority classes\n",
    "under = RandomUnderSampler(sampling_strategy='majority', random_state=42)\n",
    "\n",
    "pipeline = Pipeline([\n",
    "    ('under', under),\n",
    "    ('over', oversample),\n",
    "    \n",
    "])\n",
    "\n",
    "print(\"Old data rows: \", X_df.shape[0])\n",
    "X, Y = pipeline.fit_resample(X_df, y_df)\n",
    "print(\"New data rows:\", X.shape[0])"
   ]
  },
  {
   "cell_type": "code",
   "execution_count": 46,
   "id": "319fa6b4",
   "metadata": {},
   "outputs": [],
   "source": [
    "# split into test train data\n",
    "X_train, X_test, Y_train, Y_test = train_test_split(X, Y, test_size=0.2, random_state=42)"
   ]
  },
  {
   "cell_type": "code",
   "execution_count": 47,
   "id": "335dc95a",
   "metadata": {},
   "outputs": [
    {
     "name": "stdout",
     "output_type": "stream",
     "text": [
      "Best Parameters:\n",
      "{'clf__max_depth': None, 'clf__max_features': 'log2', 'pca__n_components': 12}\n"
     ]
    }
   ],
   "source": [
    "clf = DecisionTreeClassifier()\n",
    "parameters = {\n",
    "    'pca__n_components': [12, ],\n",
    "    'clf__max_depth': [None, 10, 15],\n",
    "    'clf__max_features': [\"auto\", \"log2\"],\n",
    "}\n",
    "\n",
    "# uncomment below 2 lines for training\n",
    "# model = build_model(clf, parameters)\n",
    "# model.fit(X_train, Y_train.values.ravel())\n",
    "\n",
    "# load from saved model\n",
    "modelFile = \"models/decision_tree_2.pkl\"\n",
    "model = pickle.load(open(modelFile, 'rb'))\n",
    "print(\"Best Parameters:\")\n",
    "print(model.best_params_)"
   ]
  },
  {
   "cell_type": "code",
   "execution_count": 50,
   "id": "17791b71",
   "metadata": {},
   "outputs": [
    {
     "name": "stdout",
     "output_type": "stream",
     "text": [
      "              precision    recall  f1-score   support\n",
      "\n",
      "           0       0.88      0.88      0.88      4172\n",
      "           1       0.90      0.90      0.90      4065\n",
      "           2       0.98      0.99      0.99      2710\n",
      "           3       0.85      0.84      0.85       993\n",
      "\n",
      "    accuracy                           0.91     11940\n",
      "   macro avg       0.91      0.90      0.90     11940\n",
      "weighted avg       0.91      0.91      0.91     11940\n",
      "\n",
      "Confusion Matrix\n"
     ]
    },
    {
     "data": {
      "image/png": "[encoded data removed]",
      "text/plain": [
       "<Figure size 432x288 with 2 Axes>"
      ]
     },
     "metadata": {
      "needs_background": "light"
     },
     "output_type": "display_data"
    }
   ],
   "source": [
    "evaluate_model(X_test, Y_test, model)"
   ]
  },
  {
   "cell_type": "code",
   "execution_count": 49,
   "id": "dcfced2d",
   "metadata": {},
   "outputs": [],
   "source": [
    "save_model(model, modelFile)"
   ]
  },
  {
   "cell_type": "markdown",
   "id": "0ee43a28",
   "metadata": {},
   "source": [
    "**SMOTE with RandomUnderSampler** gave same accuracy as only SMOTE but we can see a slight increase in precision and recall for class 0 and class 1."
   ]
  },
  {
   "cell_type": "markdown",
   "id": "59287d34",
   "metadata": {},
   "source": [
    "## Conclusion\n",
    "\n",
    "In this project we saw that **Decision Tree, Gradient Boosting** and **KNN** algorithms performed well than Naive Bayes and Logistic Regression.\n",
    "\n",
    "Logistic Regresssion doesn't work well when there is no linear relationship between data and target variables. The algorithm we used to define user response classes surely did not follow a linear relationship. In such cases Decision Tree classifier is known to perform better as is also seen here. [source](https://towardsdatascience.com/when-logistic-regression-simply-doesnt-work-8cd8f2f9d997#:~:text=The%20reason%20is%20that%20the,even%20on%20the%20training%20data)\n",
    "\n",
    "Naive Bayes has some limitations of its own which could have played a role in its poor performance.\n",
    "1. It assumes that all feature columns are independent.\n",
    "2. If there are zero frequency of a class in training data and not in test data, then Naive Bayes cannot make predictions.\n",
    "Although we tried to eliminate case 2 with over-sampling we might not have ruled out case 1.\n",
    "\n",
    "**SMOTE with RandomUnderSampler** did not improve the peformance significantly and this could mean the models are unable to learn the patterns for user response classes beyond a point due to high variance. We need to optimize the algorithm for defining user response variable."
   ]
  },
  {
   "cell_type": "markdown",
   "id": "562dbf59",
   "metadata": {},
   "source": [
    "## Improvements\n",
    "\n",
    "There is much scope for improvement in this project. We can explore more parameters in the supervised classifiers that will yield much optimal results. \n",
    "\n",
    "The algorithm used to define the criteria can be enhanced for informational offers as we considered an informational offer effective when there is atleast one transaction by user within the required time. There could be another bogo or discount offer sent after a few days to user which might have caused the transaction. The algorithm needs to consider many such edge cases.\n",
    "\n",
    "We could try other techniques like under sampling, class weights for overcoming the problem of unbalanced data.\n",
    "\n",
    "The design of the model input restricts us from making predictions for new users and offers, we can build some recommendations using matrix factorizations technique or use other forms of recommendations."
   ]
  }
 ],
 "metadata": {
  "kernelspec": {
   "display_name": "Python 3",
   "language": "python",
   "name": "python3"
  },
  "language_info": {
   "codemirror_mode": {
    "name": "ipython",
    "version": 3
   },
   "file_extension": ".py",
   "mimetype": "text/x-python",
   "name": "python",
   "nbconvert_exporter": "python",
   "pygments_lexer": "ipython3",
   "version": "3.7.4"
  }
 },
 "nbformat": 4,
 "nbformat_minor": 5
}
