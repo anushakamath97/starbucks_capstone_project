{
 "cells": [
  {
   "cell_type": "code",
   "execution_count": null,
   "id": "3ab68f00",
   "metadata": {},
   "outputs": [],
   "source": [
    "# given a user id what offer type will they respond to\n",
    "\n",
    "# 0 - They don't respond to any type\n",
    "# 1 - Bogo type\n",
    "# 2 - Discount type\n",
    "# 3 - they will complete the offer without receiving or viewing \n",
    "\n"
   ]
  }
 ],
 "metadata": {
  "kernelspec": {
   "display_name": "Python 3",
   "language": "python",
   "name": "python3"
  },
  "language_info": {
   "codemirror_mode": {
    "name": "ipython",
    "version": 3
   },
   "file_extension": ".py",
   "mimetype": "text/x-python",
   "name": "python",
   "nbconvert_exporter": "python",
   "pygments_lexer": "ipython3",
   "version": "3.7.4"
  }
 },
 "nbformat": 4,
 "nbformat_minor": 5
}
